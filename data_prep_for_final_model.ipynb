{
 "cells": [
  {
   "cell_type": "code",
   "execution_count": 1,
   "id": "186d27f7",
   "metadata": {},
   "outputs": [],
   "source": [
    "import pandas as pd"
   ]
  },
  {
   "cell_type": "code",
   "execution_count": 2,
   "id": "66d970cf",
   "metadata": {},
   "outputs": [
    {
     "data": {
      "text/html": [
       "<div>\n",
       "<style scoped>\n",
       "    .dataframe tbody tr th:only-of-type {\n",
       "        vertical-align: middle;\n",
       "    }\n",
       "\n",
       "    .dataframe tbody tr th {\n",
       "        vertical-align: top;\n",
       "    }\n",
       "\n",
       "    .dataframe thead th {\n",
       "        text-align: right;\n",
       "    }\n",
       "</style>\n",
       "<table border=\"1\" class=\"dataframe\">\n",
       "  <thead>\n",
       "    <tr style=\"text-align: right;\">\n",
       "      <th></th>\n",
       "      <th>Industry</th>\n",
       "      <th>jobID</th>\n",
       "      <th>jobTitle</th>\n",
       "      <th>sector</th>\n",
       "      <th>employerName</th>\n",
       "      <th>jobTitle.1</th>\n",
       "      <th>location</th>\n",
       "      <th>locationType</th>\n",
       "      <th>map.country</th>\n",
       "      <th>map.lat</th>\n",
       "      <th>...</th>\n",
       "      <th>salary.salaries</th>\n",
       "      <th>Cleaned_Desc</th>\n",
       "      <th>Desc_Language</th>\n",
       "      <th>Translated_Desc</th>\n",
       "      <th>Cleaned Title</th>\n",
       "      <th>matched variation</th>\n",
       "      <th>similarity_score</th>\n",
       "      <th>experience_level</th>\n",
       "      <th>job_type</th>\n",
       "      <th>Country_name</th>\n",
       "    </tr>\n",
       "  </thead>\n",
       "  <tbody>\n",
       "    <tr>\n",
       "      <th>0</th>\n",
       "      <td>Investment Banking &amp; Asset Management</td>\n",
       "      <td>3.227100e+09</td>\n",
       "      <td>Biogas Project Development Manager</td>\n",
       "      <td>Finance</td>\n",
       "      <td>Modus Group</td>\n",
       "      <td>Biogas Project Development Manager</td>\n",
       "      <td>Warsaw</td>\n",
       "      <td>C</td>\n",
       "      <td>Poland</td>\n",
       "      <td>52.2500</td>\n",
       "      <td>...</td>\n",
       "      <td>2483.0</td>\n",
       "      <td>We are the drivers of the future who offer a g...</td>\n",
       "      <td>en</td>\n",
       "      <td>We are the drivers of the future who offer a g...</td>\n",
       "      <td>business manager</td>\n",
       "      <td>business development manager</td>\n",
       "      <td>81.0</td>\n",
       "      <td>senior</td>\n",
       "      <td>internship</td>\n",
       "      <td>Poland</td>\n",
       "    </tr>\n",
       "    <tr>\n",
       "      <th>1</th>\n",
       "      <td>Biotech &amp; Pharmaceuticals</td>\n",
       "      <td>3.406582e+09</td>\n",
       "      <td>Quality Manager - Boehringer Ingelheim Healthc...</td>\n",
       "      <td>Biotech &amp; Pharmaceuticals</td>\n",
       "      <td>Boehringer Ingelheim</td>\n",
       "      <td>Quality Manager - Boehringer Ingelheim Healthc...</td>\n",
       "      <td>Porto</td>\n",
       "      <td>C</td>\n",
       "      <td>NaN</td>\n",
       "      <td>41.1500</td>\n",
       "      <td>...</td>\n",
       "      <td>2484.0</td>\n",
       "      <td>Description:Join Boehringer Ingelheim and be p...</td>\n",
       "      <td>en</td>\n",
       "      <td>Description:Join Boehringer Ingelheim and be p...</td>\n",
       "      <td>business manager</td>\n",
       "      <td>BD manager</td>\n",
       "      <td>82.0</td>\n",
       "      <td>senior</td>\n",
       "      <td>internship</td>\n",
       "      <td>Portugal</td>\n",
       "    </tr>\n",
       "    <tr>\n",
       "      <th>2</th>\n",
       "      <td>NaN</td>\n",
       "      <td>3.230738e+09</td>\n",
       "      <td>Senior Software Engineer (PHP, Elixir, Python)</td>\n",
       "      <td>NaN</td>\n",
       "      <td>Immobiliare.it</td>\n",
       "      <td>Senior Software Engineer (PHP, Elixir, Python)</td>\n",
       "      <td>Milan</td>\n",
       "      <td>C</td>\n",
       "      <td>Italy</td>\n",
       "      <td>45.4667</td>\n",
       "      <td>...</td>\n",
       "      <td>2485.0</td>\n",
       "      <td>Dottori.it e il motore di ricerca che ti aiuta...</td>\n",
       "      <td>it</td>\n",
       "      <td>Dottori.it is the search engine that helps you...</td>\n",
       "      <td>software developer</td>\n",
       "      <td>software engineer</td>\n",
       "      <td>100.0</td>\n",
       "      <td>senior</td>\n",
       "      <td>full_time</td>\n",
       "      <td>Italy</td>\n",
       "    </tr>\n",
       "    <tr>\n",
       "      <th>3</th>\n",
       "      <td>NaN</td>\n",
       "      <td>3.406677e+09</td>\n",
       "      <td>Senior SQA Engineer</td>\n",
       "      <td>NaN</td>\n",
       "      <td>Codup</td>\n",
       "      <td>Senior SQA Engineer</td>\n",
       "      <td>Karāchi</td>\n",
       "      <td>C</td>\n",
       "      <td>PK</td>\n",
       "      <td>24.8667</td>\n",
       "      <td>...</td>\n",
       "      <td>2486.0</td>\n",
       "      <td>Codup is looking for a Senior SQA Engineer for...</td>\n",
       "      <td>en</td>\n",
       "      <td>Codup is looking for a Senior SQA Engineer for...</td>\n",
       "      <td>database engineer</td>\n",
       "      <td>DB engineer</td>\n",
       "      <td>84.0</td>\n",
       "      <td>senior</td>\n",
       "      <td>full_time</td>\n",
       "      <td>Pakistan</td>\n",
       "    </tr>\n",
       "    <tr>\n",
       "      <th>4</th>\n",
       "      <td>Consulting</td>\n",
       "      <td>3.201516e+09</td>\n",
       "      <td>Research Manager</td>\n",
       "      <td>Business Services</td>\n",
       "      <td>MARKELYTICS SOLUTIONS INDIA</td>\n",
       "      <td>Research Manager</td>\n",
       "      <td>Bengaluru</td>\n",
       "      <td>C</td>\n",
       "      <td>IN</td>\n",
       "      <td>12.9670</td>\n",
       "      <td>...</td>\n",
       "      <td>2487.0</td>\n",
       "      <td>Department: Research &amp; OperationsVacancies: 3E...</td>\n",
       "      <td>en</td>\n",
       "      <td>Department: Research &amp; OperationsVacancies: 3E...</td>\n",
       "      <td>research scientist</td>\n",
       "      <td>Quantitative Researcher</td>\n",
       "      <td>67.0</td>\n",
       "      <td>senior</td>\n",
       "      <td>full_time</td>\n",
       "      <td>India</td>\n",
       "    </tr>\n",
       "  </tbody>\n",
       "</table>\n",
       "<p>5 rows × 22 columns</p>\n",
       "</div>"
      ],
      "text/plain": [
       "                                Industry         jobID  \\\n",
       "0  Investment Banking & Asset Management  3.227100e+09   \n",
       "1              Biotech & Pharmaceuticals  3.406582e+09   \n",
       "2                                    NaN  3.230738e+09   \n",
       "3                                    NaN  3.406677e+09   \n",
       "4                             Consulting  3.201516e+09   \n",
       "\n",
       "                                            jobTitle  \\\n",
       "0                 Biogas Project Development Manager   \n",
       "1  Quality Manager - Boehringer Ingelheim Healthc...   \n",
       "2     Senior Software Engineer (PHP, Elixir, Python)   \n",
       "3                                Senior SQA Engineer   \n",
       "4                                   Research Manager   \n",
       "\n",
       "                      sector                 employerName  \\\n",
       "0                    Finance                  Modus Group   \n",
       "1  Biotech & Pharmaceuticals         Boehringer Ingelheim   \n",
       "2                        NaN               Immobiliare.it   \n",
       "3                        NaN                        Codup   \n",
       "4          Business Services  MARKELYTICS SOLUTIONS INDIA   \n",
       "\n",
       "                                          jobTitle.1   location locationType  \\\n",
       "0                 Biogas Project Development Manager     Warsaw            C   \n",
       "1  Quality Manager - Boehringer Ingelheim Healthc...      Porto            C   \n",
       "2     Senior Software Engineer (PHP, Elixir, Python)      Milan            C   \n",
       "3                                Senior SQA Engineer    Karāchi            C   \n",
       "4                                   Research Manager  Bengaluru            C   \n",
       "\n",
       "  map.country  map.lat  ...  salary.salaries  \\\n",
       "0      Poland  52.2500  ...           2483.0   \n",
       "1         NaN  41.1500  ...           2484.0   \n",
       "2       Italy  45.4667  ...           2485.0   \n",
       "3          PK  24.8667  ...           2486.0   \n",
       "4          IN  12.9670  ...           2487.0   \n",
       "\n",
       "                                        Cleaned_Desc  Desc_Language  \\\n",
       "0  We are the drivers of the future who offer a g...             en   \n",
       "1  Description:Join Boehringer Ingelheim and be p...             en   \n",
       "2  Dottori.it e il motore di ricerca che ti aiuta...             it   \n",
       "3  Codup is looking for a Senior SQA Engineer for...             en   \n",
       "4  Department: Research & OperationsVacancies: 3E...             en   \n",
       "\n",
       "                                     Translated_Desc       Cleaned Title  \\\n",
       "0  We are the drivers of the future who offer a g...    business manager   \n",
       "1  Description:Join Boehringer Ingelheim and be p...    business manager   \n",
       "2  Dottori.it is the search engine that helps you...  software developer   \n",
       "3  Codup is looking for a Senior SQA Engineer for...   database engineer   \n",
       "4  Department: Research & OperationsVacancies: 3E...  research scientist   \n",
       "\n",
       "              matched variation similarity_score experience_level    job_type  \\\n",
       "0  business development manager             81.0           senior  internship   \n",
       "1                    BD manager             82.0           senior  internship   \n",
       "2             software engineer            100.0           senior   full_time   \n",
       "3                   DB engineer             84.0           senior   full_time   \n",
       "4       Quantitative Researcher             67.0           senior   full_time   \n",
       "\n",
       "  Country_name  \n",
       "0       Poland  \n",
       "1     Portugal  \n",
       "2        Italy  \n",
       "3     Pakistan  \n",
       "4        India  \n",
       "\n",
       "[5 rows x 22 columns]"
      ]
     },
     "execution_count": 2,
     "metadata": {},
     "output_type": "execute_result"
    }
   ],
   "source": [
    "#the output from translate_desc_to_en.ipynb is primarily used here (with new variables like job type, experience etc using key word search )\n",
    "job_data = pd.read_csv(\"cleaned_data_3.0.csv\")\n",
    "job_data.head()"
   ]
  },
  {
   "cell_type": "code",
   "execution_count": 4,
   "id": "7187d495",
   "metadata": {},
   "outputs": [
    {
     "data": {
      "text/plain": [
       "Cleaned Title\n",
       "software developer             20557\n",
       "business manager               19834\n",
       "project manager                13976\n",
       "database engineer              12572\n",
       "business analyst               12214\n",
       "data analyst                   10942\n",
       "product manager                 8704\n",
       "data scientist                  5653\n",
       "data engineer                   4868\n",
       "DevOps                          4797\n",
       "machine learning engineer       4625\n",
       "Consultant                      3912\n",
       "research scientist              3639\n",
       "database administrator          1364\n",
       "Professor                        780\n",
       "statistician                     670\n",
       "UI/UX Developer or Designer      367\n",
       "Name: count, dtype: int64"
      ]
     },
     "execution_count": 4,
     "metadata": {},
     "output_type": "execute_result"
    }
   ],
   "source": [
    "job_data['Cleaned Title'].value_counts()"
   ]
  },
  {
   "cell_type": "code",
   "execution_count": 7,
   "id": "27b8f922",
   "metadata": {},
   "outputs": [
    {
     "data": {
      "text/plain": [
       "experience_level\n",
       "senior    122952\n",
       "entry       8572\n",
       "Name: count, dtype: int64"
      ]
     },
     "execution_count": 7,
     "metadata": {},
     "output_type": "execute_result"
    }
   ],
   "source": [
    "job_data['experience_level'].value_counts()"
   ]
  },
  {
   "cell_type": "code",
   "execution_count": 8,
   "id": "7625628f",
   "metadata": {},
   "outputs": [
    {
     "data": {
      "text/plain": [
       "job_type\n",
       "full_time     69013\n",
       "internship    62511\n",
       "Name: count, dtype: int64"
      ]
     },
     "execution_count": 8,
     "metadata": {},
     "output_type": "execute_result"
    }
   ],
   "source": [
    "job_data['job_type'].value_counts()"
   ]
  },
  {
   "cell_type": "code",
   "execution_count": 9,
   "id": "db425c5e",
   "metadata": {},
   "outputs": [
    {
     "data": {
      "text/plain": [
       "similarity_score\n",
       "100.0    83756\n",
       "84.0     12296\n",
       "82.0     10082\n",
       "67.0      3292\n",
       "65.0      2622\n",
       "78.0      2528\n",
       "0.0       2037\n",
       "69.0      1751\n",
       "70.0      1688\n",
       "71.0      1493\n",
       "80.0      1310\n",
       "73.0      1211\n",
       "74.0      1187\n",
       "81.0      1131\n",
       "76.0       955\n",
       "83.0       861\n",
       "68.0       596\n",
       "79.0       576\n",
       "72.0       453\n",
       "77.0       391\n",
       "87.0       368\n",
       "75.0       275\n",
       "97.0       132\n",
       "91.0       101\n",
       "90.0        89\n",
       "86.0        87\n",
       "85.0        68\n",
       "89.0        47\n",
       "92.0        37\n",
       "88.0        26\n",
       "96.0        18\n",
       "93.0        17\n",
       "94.0        13\n",
       "66.0        12\n",
       "95.0         4\n",
       "98.0         1\n",
       "Name: count, dtype: int64"
      ]
     },
     "execution_count": 9,
     "metadata": {},
     "output_type": "execute_result"
    }
   ],
   "source": [
    "job_data['similarity_score'].value_counts()"
   ]
  },
  {
   "cell_type": "code",
   "execution_count": 33,
   "id": "e3920b79",
   "metadata": {},
   "outputs": [
    {
     "name": "stdout",
     "output_type": "stream",
     "text": [
      "<class 'pandas.core.frame.DataFrame'>\n",
      "Index: 82911 entries, 2 to 131519\n",
      "Data columns (total 22 columns):\n",
      " #   Column             Non-Null Count  Dtype  \n",
      "---  ------             --------------  -----  \n",
      " 0   Industry           62703 non-null  object \n",
      " 1   jobID              82765 non-null  float64\n",
      " 2   jobTitle           82911 non-null  object \n",
      " 3   sector             62725 non-null  object \n",
      " 4   employerName       81912 non-null  object \n",
      " 5   jobTitle.1         82911 non-null  object \n",
      " 6   location           82911 non-null  object \n",
      " 7   locationType       82911 non-null  object \n",
      " 8   map.country        56588 non-null  object \n",
      " 9   map.lat            82911 non-null  float64\n",
      " 10  map.lng            82911 non-null  float64\n",
      " 11  map.location       82911 non-null  object \n",
      " 12  salary.salaries    76887 non-null  float64\n",
      " 13  Cleaned_Desc       82911 non-null  object \n",
      " 14  Desc_Language      82911 non-null  object \n",
      " 15  Translated_Desc    82911 non-null  object \n",
      " 16  Cleaned Title      82911 non-null  object \n",
      " 17  matched variation  82911 non-null  object \n",
      " 18  similarity_score   82911 non-null  float64\n",
      " 19  experience_level   82911 non-null  object \n",
      " 20  job_type           82911 non-null  object \n",
      " 21  Country_name       82911 non-null  object \n",
      "dtypes: float64(5), object(17)\n",
      "memory usage: 14.5+ MB\n"
     ]
    }
   ],
   "source": [
    "#removing jobs where sample size is very small or job title similarity is low\n",
    "job_data1 = job_data[~(job_data['Cleaned Title'].isin([\"UI/UX Developer or Designer\",\"Professor\",'statistician'])) &\n",
    "                    (job_data['similarity_score'] >= 90)]\n",
    "job_data1.info()\n"
   ]
  },
  {
   "cell_type": "code",
   "execution_count": 34,
   "id": "ef7818ed",
   "metadata": {},
   "outputs": [
    {
     "name": "stdout",
     "output_type": "stream",
     "text": [
      "['China', 'India', 'United Kingdom', 'United States', 'Singapore', 'Canada', 'Australia', 'Unknown', 'Germany', 'Poland', 'Philippines', 'Ireland', 'Netherlands', 'Malaysia', 'South Africa', 'Switzerland', 'Spain', 'Belgium', 'France', 'Indonesia', 'Israel', 'Sweden', 'Romania', 'United Arab Emirates', 'Italy', 'Japan', 'Mexico', 'New Zealand', 'Pakistan', 'Austria', 'Brazil', 'Hungary', 'Egypt', 'Ukraine', 'Denmark', 'Russia', 'Czechia', 'Thailand', 'Nigeria', 'Vietnam', 'Taiwan', 'Ethiopia', 'Saudi Arabia', 'Argentina', 'Bulgaria', 'Portugal', 'Turkey', 'Norway', 'Costa Rica', 'Lithuania', 'Greece', 'South Korea', 'Finland', 'Colombia', 'Luxembourg', 'Slovakia', 'Serbia', 'Kenya', 'Yemen', 'Burkina Faso', 'Estonia']\n"
     ]
    }
   ],
   "source": [
    "#removing data for countries with less than 100 records\n",
    "value_counts = job_data1['Country_name'].value_counts()\n",
    "filtered_counts = value_counts[value_counts >= 100]\n",
    "countries_list = filtered_counts.index.tolist()\n",
    "print(countries_list)"
   ]
  },
  {
   "cell_type": "code",
   "execution_count": 35,
   "id": "b7a220e6",
   "metadata": {},
   "outputs": [
    {
     "data": {
      "text/plain": [
       "job_type\n",
       "full_time     44291\n",
       "internship    38620\n",
       "Name: count, dtype: int64"
      ]
     },
     "execution_count": 35,
     "metadata": {},
     "output_type": "execute_result"
    }
   ],
   "source": [
    "job_data1['job_type'].value_counts()"
   ]
  },
  {
   "cell_type": "code",
   "execution_count": 36,
   "id": "1ad7d629",
   "metadata": {},
   "outputs": [
    {
     "data": {
      "text/plain": [
       "experience_level\n",
       "senior    77457\n",
       "entry      5454\n",
       "Name: count, dtype: int64"
      ]
     },
     "execution_count": 36,
     "metadata": {},
     "output_type": "execute_result"
    }
   ],
   "source": [
    "job_data1['experience_level'].value_counts()"
   ]
  },
  {
   "cell_type": "code",
   "execution_count": 37,
   "id": "39237983",
   "metadata": {},
   "outputs": [
    {
     "data": {
      "text/plain": [
       "sector\n",
       "Information Technology                24760\n",
       "Business Services                     10361\n",
       "Finance                                6074\n",
       "Manufacturing                          5360\n",
       "Biotech & Pharmaceuticals              2703\n",
       "Telecommunications                     1523\n",
       "Accounting & Legal                     1369\n",
       "Retail                                 1197\n",
       "Media                                  1039\n",
       "Insurance                              1034\n",
       "Health Care                             989\n",
       "Oil, Gas, Energy & Utilities            968\n",
       "Transportation & Logistics              877\n",
       "Aerospace & Defense                     718\n",
       "Travel & Tourism                        691\n",
       "Education                               588\n",
       "Construction, Repair & Maintenance      582\n",
       "Government                              538\n",
       "Real Estate                             359\n",
       "Arts, Entertainment & Recreation        243\n",
       "Non-Profit                              239\n",
       "Consumer Services                       187\n",
       "Agriculture & Forestry                  182\n",
       "Restaurants, Bars & Food Services        96\n",
       "Mining & Metals                          48\n",
       "Name: count, dtype: int64"
      ]
     },
     "execution_count": 37,
     "metadata": {},
     "output_type": "execute_result"
    }
   ],
   "source": [
    "job_data1['sector'].value_counts()"
   ]
  },
  {
   "cell_type": "code",
   "execution_count": 38,
   "id": "546ca037",
   "metadata": {},
   "outputs": [],
   "source": [
    "sector_list1 =['Information Technology','Business Services','Finance','Manufacturing']\n",
    "sector_list2 = ['Biotech & Pharmaceuticals','Health Care','Insurance']"
   ]
  },
  {
   "cell_type": "code",
   "execution_count": 39,
   "id": "64fb7855",
   "metadata": {},
   "outputs": [
    {
     "name": "stderr",
     "output_type": "stream",
     "text": [
      "/var/folders/bz/qyvd1hfs07v7gkh9fbvpy51m0000gn/T/ipykernel_83665/2455764899.py:1: SettingWithCopyWarning: \n",
      "A value is trying to be set on a copy of a slice from a DataFrame.\n",
      "Try using .loc[row_indexer,col_indexer] = value instead\n",
      "\n",
      "See the caveats in the documentation: https://pandas.pydata.org/pandas-docs/stable/user_guide/indexing.html#returning-a-view-versus-a-copy\n",
      "  job_data1['sector_new'] = 'Misc'\n"
     ]
    },
    {
     "data": {
      "text/plain": [
       "sector_new\n",
       "Misc                      31630\n",
       "Information Technology    24760\n",
       "Business Services         10361\n",
       "Finance                    6074\n",
       "Manufacturing              5360\n",
       "Healthcare & Insurance     4726\n",
       "Name: count, dtype: int64"
      ]
     },
     "execution_count": 39,
     "metadata": {},
     "output_type": "execute_result"
    }
   ],
   "source": [
    "#further grouping sectors\n",
    "job_data1['sector_new'] = 'Misc'\n",
    "job_data1.loc[job_data1['sector'].isin(sector_list1),'sector_new'] = job_data1['sector']\n",
    "job_data1.loc[job_data1['sector'].isin(sector_list2),'sector_new'] = 'Healthcare & Insurance'\n",
    "job_data1['sector_new'].value_counts()"
   ]
  },
  {
   "cell_type": "code",
   "execution_count": 40,
   "id": "c44a876d",
   "metadata": {},
   "outputs": [
    {
     "name": "stdout",
     "output_type": "stream",
     "text": [
      "<class 'pandas.core.frame.DataFrame'>\n",
      "Index: 82911 entries, 2 to 131519\n",
      "Data columns (total 23 columns):\n",
      " #   Column             Non-Null Count  Dtype  \n",
      "---  ------             --------------  -----  \n",
      " 0   Industry           62703 non-null  object \n",
      " 1   jobID              82765 non-null  float64\n",
      " 2   jobTitle           82911 non-null  object \n",
      " 3   sector             62725 non-null  object \n",
      " 4   employerName       81912 non-null  object \n",
      " 5   jobTitle.1         82911 non-null  object \n",
      " 6   location           82911 non-null  object \n",
      " 7   locationType       82911 non-null  object \n",
      " 8   map.country        56588 non-null  object \n",
      " 9   map.lat            82911 non-null  float64\n",
      " 10  map.lng            82911 non-null  float64\n",
      " 11  map.location       82911 non-null  object \n",
      " 12  salary.salaries    76887 non-null  float64\n",
      " 13  Cleaned_Desc       82911 non-null  object \n",
      " 14  Desc_Language      82911 non-null  object \n",
      " 15  Translated_Desc    82911 non-null  object \n",
      " 16  Cleaned Title      82911 non-null  object \n",
      " 17  matched variation  82911 non-null  object \n",
      " 18  similarity_score   82911 non-null  float64\n",
      " 19  experience_level   82911 non-null  object \n",
      " 20  job_type           82911 non-null  object \n",
      " 21  Country_name       82911 non-null  object \n",
      " 22  sector_new         82911 non-null  object \n",
      "dtypes: float64(5), object(18)\n",
      "memory usage: 17.2+ MB\n"
     ]
    }
   ],
   "source": [
    "job_data1.info()"
   ]
  },
  {
   "cell_type": "code",
   "execution_count": 43,
   "id": "12ca7d31",
   "metadata": {},
   "outputs": [
    {
     "name": "stdout",
     "output_type": "stream",
     "text": [
      "<class 'pandas.core.frame.DataFrame'>\n",
      "Index: 82911 entries, 2 to 131519\n",
      "Data columns (total 7 columns):\n",
      " #   Column            Non-Null Count  Dtype  \n",
      "---  ------            --------------  -----  \n",
      " 0   Cleaned Title     82911 non-null  object \n",
      " 1   sector_new        82911 non-null  object \n",
      " 2   experience_level  82911 non-null  object \n",
      " 3   job_type          82911 non-null  object \n",
      " 4   Country_name      82911 non-null  object \n",
      " 5   Translated_Desc   82911 non-null  object \n",
      " 6   salary.salaries   76887 non-null  float64\n",
      "dtypes: float64(1), object(6)\n",
      "memory usage: 7.1+ MB\n"
     ]
    }
   ],
   "source": [
    "job_data2 = job_data1[[\"Cleaned Title\",'sector_new','experience_level','job_type','Country_name','Translated_Desc',\n",
    "                       'salary.salaries']]\n",
    "job_data2.info()"
   ]
  },
  {
   "cell_type": "code",
   "execution_count": 42,
   "id": "06a0e5c1",
   "metadata": {},
   "outputs": [
    {
     "data": {
      "text/plain": [
       "Cleaned Title\n",
       "software developer           18451\n",
       "project manager              13050\n",
       "business analyst             10479\n",
       "data analyst                 10086\n",
       "product manager               8158\n",
       "business manager              5691\n",
       "data scientist                3531\n",
       "data engineer                 3302\n",
       "DevOps                        2956\n",
       "Consultant                    2362\n",
       "research scientist            2293\n",
       "machine learning engineer     1091\n",
       "database administrator         758\n",
       "database engineer              703\n",
       "Name: count, dtype: int64"
      ]
     },
     "execution_count": 42,
     "metadata": {},
     "output_type": "execute_result"
    }
   ],
   "source": [
    "job_data2['Cleaned Title'].value_counts()"
   ]
  },
  {
   "cell_type": "code",
   "execution_count": 45,
   "id": "ca83c214",
   "metadata": {},
   "outputs": [
    {
     "data": {
      "image/png": "[encoded data removed]",
      "text/plain": [
       "<Figure size 1200x600 with 14 Axes>"
      ]
     },
     "metadata": {},
     "output_type": "display_data"
    }
   ],
   "source": [
    "import matplotlib.pyplot as plt\n",
    "fig, axes = plt.subplots(nrows=1, ncols=len(job_data2['Cleaned Title'].unique()), figsize=(12, 6), sharey=True)\n",
    "\n",
    "# Plot scatter plots for each group\n",
    "for ax, (category, group) in zip(axes, job_data2.groupby('Cleaned Title')):\n",
    "    ax.scatter(range(len(group)), group['salary.salaries'])\n",
    "    ax.set_title(f'Scatter Plot - Category {category}')\n",
    "    ax.set_xlabel('Index')\n",
    "    ax.set_ylabel('Values')\n",
    "\n",
    "plt.tight_layout()\n",
    "plt.show()"
   ]
  },
  {
   "cell_type": "code",
   "execution_count": 46,
   "id": "3cb4921f",
   "metadata": {},
   "outputs": [],
   "source": [
    "job_data2.to_excel(\"cleaned_data_filtered_4.0.xlsx\",index=False)"
   ]
  },
  {
   "cell_type": "code",
   "execution_count": null,
   "id": "756aa787",
   "metadata": {},
   "outputs": [],
   "source": []
  }
 ],
 "metadata": {
  "kernelspec": {
   "display_name": "Python 3 (ipykernel)",
   "language": "python",
   "name": "python3"
  },
  "language_info": {
   "codemirror_mode": {
    "name": "ipython",
    "version": 3
   },
   "file_extension": ".py",
   "mimetype": "text/x-python",
   "name": "python",
   "nbconvert_exporter": "python",
   "pygments_lexer": "ipython3",
   "version": "3.11.4"
  }
 },
 "nbformat": 4,
 "nbformat_minor": 5
}
