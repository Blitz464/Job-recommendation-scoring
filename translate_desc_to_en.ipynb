{
 "cells": [
  {
   "cell_type": "markdown",
   "id": "3c636cc0",
   "metadata": {},
   "source": [
    "pip install googletrans==4.0.0-rc1"
   ]
  },
  {
   "cell_type": "code",
   "execution_count": 21,
   "id": "85db1458",
   "metadata": {},
   "outputs": [],
   "source": [
    "import pandas as pd\n",
    "from langdetect import detect\n",
    "from googletrans import Translator\n",
    "from bs4 import BeautifulSoup\n",
    "from concurrent.futures import ThreadPoolExecutor"
   ]
  },
  {
   "cell_type": "code",
   "execution_count": 9,
   "id": "bf7ea836",
   "metadata": {},
   "outputs": [
    {
     "data": {
      "text/html": [
       "<div>\n",
       "<style scoped>\n",
       "    .dataframe tbody tr th:only-of-type {\n",
       "        vertical-align: middle;\n",
       "    }\n",
       "\n",
       "    .dataframe tbody tr th {\n",
       "        vertical-align: top;\n",
       "    }\n",
       "\n",
       "    .dataframe thead th {\n",
       "        text-align: right;\n",
       "    }\n",
       "</style>\n",
       "<table border=\"1\" class=\"dataframe\">\n",
       "  <thead>\n",
       "    <tr style=\"text-align: right;\">\n",
       "      <th></th>\n",
       "      <th>benefits.benefitRatingDecimal</th>\n",
       "      <th>benefits.comments</th>\n",
       "      <th>benefits.highlights</th>\n",
       "      <th>benefits.numRatings</th>\n",
       "      <th>benefits.employerSummary</th>\n",
       "      <th>breadCrumbs</th>\n",
       "      <th>gaTrackerData.category</th>\n",
       "      <th>gaTrackerData.empId</th>\n",
       "      <th>gaTrackerData.empName</th>\n",
       "      <th>gaTrackerData.empSize</th>\n",
       "      <th>...</th>\n",
       "      <th>salary.currency.displayName</th>\n",
       "      <th>salary.currency.id</th>\n",
       "      <th>salary.currency.name</th>\n",
       "      <th>salary.currency.negativeTemplate</th>\n",
       "      <th>salary.currency.new</th>\n",
       "      <th>salary.currency.positiveTemplate</th>\n",
       "      <th>salary.currency.symbol</th>\n",
       "      <th>salary.lastSalaryDate</th>\n",
       "      <th>salary.salaries</th>\n",
       "      <th>wwfu</th>\n",
       "    </tr>\n",
       "  </thead>\n",
       "  <tbody>\n",
       "    <tr>\n",
       "      <th>0</th>\n",
       "      <td>0.0</td>\n",
       "      <td>2801.0</td>\n",
       "      <td>2801.0</td>\n",
       "      <td>0</td>\n",
       "      <td>NaN</td>\n",
       "      <td>2801</td>\n",
       "      <td>-1</td>\n",
       "      <td>2183810</td>\n",
       "      <td>Modus Group</td>\n",
       "      <td>501-1000</td>\n",
       "      <td>...</td>\n",
       "      <td>NaN</td>\n",
       "      <td>NaN</td>\n",
       "      <td>NaN</td>\n",
       "      <td>NaN</td>\n",
       "      <td>NaN</td>\n",
       "      <td>NaN</td>\n",
       "      <td>NaN</td>\n",
       "      <td>NaN</td>\n",
       "      <td>2483.0</td>\n",
       "      <td>NaN</td>\n",
       "    </tr>\n",
       "    <tr>\n",
       "      <th>1</th>\n",
       "      <td>4.0</td>\n",
       "      <td>2802.0</td>\n",
       "      <td>2802.0</td>\n",
       "      <td>3</td>\n",
       "      <td>NaN</td>\n",
       "      <td>2802</td>\n",
       "      <td>-1</td>\n",
       "      <td>10416</td>\n",
       "      <td>Boehringer Ingelheim</td>\n",
       "      <td>10000--1</td>\n",
       "      <td>...</td>\n",
       "      <td>United Kingdom Pound (GBP)</td>\n",
       "      <td>2.0</td>\n",
       "      <td>United Kingdom Pound</td>\n",
       "      <td>$(#)</td>\n",
       "      <td>False</td>\n",
       "      <td>$#</td>\n",
       "      <td>&amp;pound;</td>\n",
       "      <td>2019-10-14T06:05:58</td>\n",
       "      <td>2484.0</td>\n",
       "      <td>NaN</td>\n",
       "    </tr>\n",
       "    <tr>\n",
       "      <th>2</th>\n",
       "      <td>0.0</td>\n",
       "      <td>2803.0</td>\n",
       "      <td>2803.0</td>\n",
       "      <td>0</td>\n",
       "      <td>NaN</td>\n",
       "      <td>2803</td>\n",
       "      <td>-1</td>\n",
       "      <td>1043373</td>\n",
       "      <td>Immobiliare.it</td>\n",
       "      <td>201-500</td>\n",
       "      <td>...</td>\n",
       "      <td>NaN</td>\n",
       "      <td>NaN</td>\n",
       "      <td>NaN</td>\n",
       "      <td>NaN</td>\n",
       "      <td>NaN</td>\n",
       "      <td>NaN</td>\n",
       "      <td>NaN</td>\n",
       "      <td>NaN</td>\n",
       "      <td>2485.0</td>\n",
       "      <td>NaN</td>\n",
       "    </tr>\n",
       "    <tr>\n",
       "      <th>3</th>\n",
       "      <td>0.0</td>\n",
       "      <td>2804.0</td>\n",
       "      <td>2804.0</td>\n",
       "      <td>0</td>\n",
       "      <td>NaN</td>\n",
       "      <td>2804</td>\n",
       "      <td>-1</td>\n",
       "      <td>2226886</td>\n",
       "      <td>Codup</td>\n",
       "      <td>1-50</td>\n",
       "      <td>...</td>\n",
       "      <td>NaN</td>\n",
       "      <td>NaN</td>\n",
       "      <td>NaN</td>\n",
       "      <td>NaN</td>\n",
       "      <td>NaN</td>\n",
       "      <td>NaN</td>\n",
       "      <td>NaN</td>\n",
       "      <td>NaN</td>\n",
       "      <td>2486.0</td>\n",
       "      <td>NaN</td>\n",
       "    </tr>\n",
       "    <tr>\n",
       "      <th>4</th>\n",
       "      <td>0.0</td>\n",
       "      <td>2805.0</td>\n",
       "      <td>2805.0</td>\n",
       "      <td>0</td>\n",
       "      <td>NaN</td>\n",
       "      <td>2805</td>\n",
       "      <td>-1</td>\n",
       "      <td>851555</td>\n",
       "      <td>Markelytics Solutions</td>\n",
       "      <td>201-500</td>\n",
       "      <td>...</td>\n",
       "      <td>NaN</td>\n",
       "      <td>NaN</td>\n",
       "      <td>NaN</td>\n",
       "      <td>NaN</td>\n",
       "      <td>NaN</td>\n",
       "      <td>NaN</td>\n",
       "      <td>NaN</td>\n",
       "      <td>NaN</td>\n",
       "      <td>2487.0</td>\n",
       "      <td>NaN</td>\n",
       "    </tr>\n",
       "  </tbody>\n",
       "</table>\n",
       "<p>5 rows × 163 columns</p>\n",
       "</div>"
      ],
      "text/plain": [
       "   benefits.benefitRatingDecimal  benefits.comments  benefits.highlights  \\\n",
       "0                            0.0             2801.0               2801.0   \n",
       "1                            4.0             2802.0               2802.0   \n",
       "2                            0.0             2803.0               2803.0   \n",
       "3                            0.0             2804.0               2804.0   \n",
       "4                            0.0             2805.0               2805.0   \n",
       "\n",
       "   benefits.numRatings benefits.employerSummary  breadCrumbs  \\\n",
       "0                    0                      NaN         2801   \n",
       "1                    3                      NaN         2802   \n",
       "2                    0                      NaN         2803   \n",
       "3                    0                      NaN         2804   \n",
       "4                    0                      NaN         2805   \n",
       "\n",
       "   gaTrackerData.category  gaTrackerData.empId  gaTrackerData.empName  \\\n",
       "0                      -1              2183810            Modus Group   \n",
       "1                      -1                10416   Boehringer Ingelheim   \n",
       "2                      -1              1043373        Immobiliare.it    \n",
       "3                      -1              2226886                  Codup   \n",
       "4                      -1               851555  Markelytics Solutions   \n",
       "\n",
       "  gaTrackerData.empSize  ...  salary.currency.displayName salary.currency.id  \\\n",
       "0              501-1000  ...                          NaN                NaN   \n",
       "1              10000--1  ...   United Kingdom Pound (GBP)                2.0   \n",
       "2               201-500  ...                          NaN                NaN   \n",
       "3                  1-50  ...                          NaN                NaN   \n",
       "4               201-500  ...                          NaN                NaN   \n",
       "\n",
       "   salary.currency.name  salary.currency.negativeTemplate  \\\n",
       "0                   NaN                               NaN   \n",
       "1  United Kingdom Pound                              $(#)   \n",
       "2                   NaN                               NaN   \n",
       "3                   NaN                               NaN   \n",
       "4                   NaN                               NaN   \n",
       "\n",
       "   salary.currency.new salary.currency.positiveTemplate  \\\n",
       "0                  NaN                              NaN   \n",
       "1                False                               $#   \n",
       "2                  NaN                              NaN   \n",
       "3                  NaN                              NaN   \n",
       "4                  NaN                              NaN   \n",
       "\n",
       "  salary.currency.symbol  salary.lastSalaryDate salary.salaries wwfu  \n",
       "0                    NaN                    NaN          2483.0  NaN  \n",
       "1                &pound;    2019-10-14T06:05:58          2484.0  NaN  \n",
       "2                    NaN                    NaN          2485.0  NaN  \n",
       "3                    NaN                    NaN          2486.0  NaN  \n",
       "4                    NaN                    NaN          2487.0  NaN  \n",
       "\n",
       "[5 rows x 163 columns]"
      ]
     },
     "execution_count": 9,
     "metadata": {},
     "output_type": "execute_result"
    }
   ],
   "source": [
    "job_data = pd.read_csv('glassdoor.csv')\n",
    "job_data.head()"
   ]
  },
  {
   "cell_type": "code",
   "execution_count": 11,
   "id": "3e62ae21",
   "metadata": {},
   "outputs": [],
   "source": [
    "def clean_html_column(column):\n",
    "    cleaned_values = []\n",
    "    for value in column:\n",
    "        if isinstance(value, str):  # Check if the value is a non-null string\n",
    "            soup = BeautifulSoup(value, 'html.parser')\n",
    "            cleaned_text = soup.get_text()\n",
    "            cleaned_values.append(cleaned_text)\n",
    "        else:\n",
    "            cleaned_values.append(None)  # Handle NaN values by replacing them with None\n",
    "    return cleaned_values"
   ]
  },
  {
   "cell_type": "code",
   "execution_count": 3,
   "id": "7fd59910",
   "metadata": {},
   "outputs": [],
   "source": [
    "# Function to detect language\n",
    "def detect_language(text):\n",
    "    try:\n",
    "        return detect(text)\n",
    "    except:\n",
    "        return \"Unknown\"  # Handle cases where language detection fails\n"
   ]
  },
  {
   "cell_type": "code",
   "execution_count": 27,
   "id": "a6db8d9b",
   "metadata": {},
   "outputs": [],
   "source": [
    "# Function to translate text to English using Google Translate\n",
    "def translate_to_english(row):\n",
    "    #detected_language = row['Desc_Language']\n",
    "    #text = row['Cleaned_Desc']\n",
    "    detected_language = row[1]\n",
    "    text = row[0]\n",
    "\n",
    "    if detected_language == 'en':\n",
    "        return text  # Text is already in English\n",
    "    else:\n",
    "        try:\n",
    "            translator = Translator()\n",
    "            translated = translator.translate(text, src=detected_language, dest='en')\n",
    "            return translated.text\n",
    "        except Exception as e:\n",
    "            return f\"Translation Error: {str(e)}\"  # Handle translation errors"
   ]
  },
  {
   "cell_type": "code",
   "execution_count": 18,
   "id": "9f7f454b",
   "metadata": {},
   "outputs": [
    {
     "name": "stderr",
     "output_type": "stream",
     "text": [
      "/var/folders/bz/qyvd1hfs07v7gkh9fbvpy51m0000gn/T/ipykernel_65531/4184509349.py:5: MarkupResemblesLocatorWarning: The input looks more like a filename than markup. You may want to open this file and pass the filehandle into Beautiful Soup.\n",
      "  soup = BeautifulSoup(value, 'html.parser')\n"
     ]
    },
    {
     "data": {
      "text/plain": [
       "0    We are the drivers of the future who offer a g...\n",
       "1    Description:Join Boehringer Ingelheim and be p...\n",
       "2    Dottori.it è il motore di ricerca che ti aiuta...\n",
       "3    Codup is looking for a Senior SQA Engineer for...\n",
       "4    Department: Research & OperationsVacancies: 3E...\n",
       "Name: Cleaned_Desc, dtype: object"
      ]
     },
     "execution_count": 18,
     "metadata": {},
     "output_type": "execute_result"
    }
   ],
   "source": [
    "#job_data = job_data.sample(n=1000, random_state=42)\n",
    "job_data['Cleaned_Desc'] = clean_html_column(job_data['job.description'])\n",
    "job_data['Cleaned_Desc'] = job_data['Cleaned_Desc'].str.replace('\\n', '')\n",
    "job_data['Cleaned_Desc'].head()"
   ]
  },
  {
   "cell_type": "code",
   "execution_count": 19,
   "id": "bf3a1902",
   "metadata": {},
   "outputs": [
    {
     "data": {
      "text/plain": [
       "Desc_Language\n",
       "en    139134\n",
       "de      7996\n",
       "nl      5887\n",
       "fr      5419\n",
       "it      2226\n",
       "es      1462\n",
       "he       768\n",
       "pl       576\n",
       "pt       375\n",
       "sv       372\n",
       "Name: count, dtype: int64"
      ]
     },
     "execution_count": 19,
     "metadata": {},
     "output_type": "execute_result"
    }
   ],
   "source": [
    "# Apply language detection to the 'Text' column\n",
    "job_data['Desc_Language'] = job_data['Cleaned_Desc'].apply(detect_language)\n",
    "job_data['Desc_Language'].value_counts().head(10)"
   ]
  },
  {
   "cell_type": "code",
   "execution_count": 29,
   "id": "466c639b",
   "metadata": {},
   "outputs": [],
   "source": [
    "max_workers = 4  # Adjust the number of workers as needed\n",
    "\n",
    "# Use ThreadPoolExecutor to process rows concurrently\n",
    "with ThreadPoolExecutor(max_workers) as executor:\n",
    "    # Apply the translation function concurrently to each row\n",
    "    results = list(executor.map(translate_to_english, job_data[[\"Cleaned_Desc\",\"Desc_Language\"]].itertuples(index=False)))\n",
    "\n",
    "# Add the results to a new column in the DataFrame\n",
    "job_data['Translated_Desc'] = results"
   ]
  },
  {
   "cell_type": "code",
   "execution_count": 31,
   "id": "e5513b10",
   "metadata": {},
   "outputs": [
    {
     "name": "stdout",
     "output_type": "stream",
     "text": [
      "                                         Cleaned_Desc  \\\n",
      "0   We are the drivers of the future who offer a g...   \n",
      "1   Description:Join Boehringer Ingelheim and be p...   \n",
      "2   Dottori.it è il motore di ricerca che ti aiuta...   \n",
      "3   Codup is looking for a Senior SQA Engineer for...   \n",
      "4   Department: Research & OperationsVacancies: 3E...   \n",
      "5   About NCRNCR Corporation (NYSE: NCR) is a lead...   \n",
      "6   תיאור המשרה:לחברת הייטק בינלאומית שפיתחה את הפ...   \n",
      "7   Le descriptif de l’offre ci-dessous est en Ang...   \n",
      "8   Technical Consultant will handle solution deli...   \n",
      "9   ADLAB Solutions is looking for skillful candid...   \n",
      "10  Some careers grow faster than others.If you’re...   \n",
      "11  Overview:As the Installed Base Program Manager...   \n",
      "12  Hiring Key Accounts Manager for an For a priva...   \n",
      "13  Amaris est une société indépendante et interna...   \n",
      "14  Why You'll Love CiscoWe change the World, you ...   \n",
      "\n",
      "                                      Translated_Desc  \n",
      "0   We are the drivers of the future who offer a g...  \n",
      "1   Description:Join Boehringer Ingelheim and be p...  \n",
      "2   Dottori.it is the search engine that helps you...  \n",
      "3   Codup is looking for a Senior SQA Engineer for...  \n",
      "4   Department: Research & OperationsVacancies: 3E...  \n",
      "5   About NCRNCR Corporation (NYSE: NCR) is a lead...  \n",
      "6   Job Description: An international high -tech c...  \n",
      "7   Le descriptif de l’offre ci-dessous est en Ang...  \n",
      "8   Technical Consultant will handle solution deli...  \n",
      "9   ADLAB Solutions is looking for skillful candid...  \n",
      "10  Some careers grow faster than others.If you’re...  \n",
      "11  Overview:As the Installed Base Program Manager...  \n",
      "12  Hiring Key Accounts Manager for an For a priva...  \n",
      "13  Amaris is an independent and international com...  \n",
      "14  Why You'll Love CiscoWe change the World, you ...  \n"
     ]
    }
   ],
   "source": [
    "# Display the DataFrame with detected languages and translated text\n",
    "print(job_data[['Cleaned_Desc','Translated_Desc']].head(15))"
   ]
  },
  {
   "cell_type": "code",
   "execution_count": 79,
   "id": "a00f15ab",
   "metadata": {},
   "outputs": [],
   "source": [
    "columns_to_keep = [\n",
    "                  'gaTrackerData.industry','gaTrackerData.jobId.long',\n",
    "                  'gaTrackerData.sector','header.employerName','header.jobTitle','header.location','header.locationType',\n",
    "                  'map.country','map.lat','map.lng','map.location','salary.salaries',\n",
    "                  'Cleaned_Desc','Desc_Language','Translated_Desc']"
   ]
  },
  {
   "cell_type": "code",
   "execution_count": 80,
   "id": "5a06c124",
   "metadata": {},
   "outputs": [
    {
     "data": {
      "text/plain": [
       "gaTrackerData.industry      47405\n",
       "gaTrackerData.jobId.long      246\n",
       "gaTrackerData.jobTitle          0\n",
       "gaTrackerData.sector        47373\n",
       "header.employerName          3245\n",
       "header.jobTitle                 0\n",
       "header.location                 5\n",
       "header.locationType            23\n",
       "map.country                 50028\n",
       "map.lat                         0\n",
       "map.lng                         0\n",
       "map.location                    5\n",
       "salary.salaries             18141\n",
       "Cleaned_Desc                    4\n",
       "Desc_Language                   0\n",
       "Translated_Desc                 0\n",
       "dtype: int64"
      ]
     },
     "execution_count": 80,
     "metadata": {},
     "output_type": "execute_result"
    }
   ],
   "source": [
    "job_data[columns_to_keep].isna().sum()"
   ]
  },
  {
   "cell_type": "code",
   "execution_count": 40,
   "id": "5c36ea89",
   "metadata": {},
   "outputs": [
    {
     "data": {
      "text/plain": [
       "18701"
      ]
     },
     "execution_count": 40,
     "metadata": {},
     "output_type": "execute_result"
    }
   ],
   "source": [
    "#get the missing coords\n",
    "(job_data['map.lat']== 0).sum()"
   ]
  },
  {
   "cell_type": "code",
   "execution_count": 41,
   "id": "abaf8264",
   "metadata": {},
   "outputs": [
    {
     "data": {
      "text/plain": [
       "18701"
      ]
     },
     "execution_count": 41,
     "metadata": {},
     "output_type": "execute_result"
    }
   ],
   "source": [
    "(job_data['map.lng']== 0).sum()"
   ]
  },
  {
   "cell_type": "code",
   "execution_count": 42,
   "id": "4cee175d",
   "metadata": {},
   "outputs": [
    {
     "data": {
      "text/plain": [
       "header.locationType\n",
       "N                      13138\n",
       "S                       5171\n",
       "C                        369\n",
       "Name: count, dtype: int64"
      ]
     },
     "execution_count": 42,
     "metadata": {},
     "output_type": "execute_result"
    }
   ],
   "source": [
    "job_data[job_data['map.lat']== 0][['header.locationType']].value_counts().head(10)"
   ]
  },
  {
   "cell_type": "markdown",
   "id": "3634f39b",
   "metadata": {},
   "source": [
    "!pip install geopandas"
   ]
  },
  {
   "cell_type": "code",
   "execution_count": 44,
   "id": "ec6058fc",
   "metadata": {},
   "outputs": [],
   "source": [
    "import geopandas as gpd\n",
    "\n",
    "# Load the shapefile\n",
    "gdf = gpd.read_file('ne_50m_admin_0_countries/ne_50m_admin_0_countries.shp')  # Replace with the actual path to your shapefile\n",
    "\n",
    "\n"
   ]
  },
  {
   "cell_type": "markdown",
   "id": "c797825b",
   "metadata": {},
   "source": [
    "column_names = gdf.columns\n",
    "for col in column_names:\n",
    "    print(col)"
   ]
  },
  {
   "cell_type": "code",
   "execution_count": 54,
   "id": "c4e2c98e",
   "metadata": {},
   "outputs": [
    {
     "name": "stdout",
     "output_type": "stream",
     "text": [
      "                NAME     LABEL_X    LABEL_Y\n",
      "0           Zimbabwe   29.925444 -18.911640\n",
      "1             Zambia   26.395298 -14.660804\n",
      "2              Yemen   45.874383  15.328226\n",
      "3            Vietnam  105.387292  21.715416\n",
      "4          Venezuela  -64.599381   7.182476\n",
      "..               ...         ...        ...\n",
      "237      Afghanistan   66.496586  34.164262\n",
      "238  Siachen Glacier   77.129553  35.340606\n",
      "239       Antarctica   35.885455 -79.843222\n",
      "240     Sint Maarten  -63.070133  18.040880\n",
      "241           Tuvalu  179.209587  -8.513717\n",
      "\n",
      "[242 rows x 3 columns]\n"
     ]
    }
   ],
   "source": [
    "# Extract country names, latitude, and longitude\n",
    "country_info = gdf[['NAME', 'LABEL_X', 'LABEL_Y']]  # Replace 'LATITUDE' and 'LONGITUDE' with the actual column names in your shapefile\n",
    "\n",
    "# Display the data\n",
    "print(country_info)"
   ]
  },
  {
   "cell_type": "code",
   "execution_count": 66,
   "id": "fc6a0495",
   "metadata": {
    "scrolled": true
   },
   "outputs": [
    {
     "data": {
      "text/html": [
       "<div>\n",
       "<style scoped>\n",
       "    .dataframe tbody tr th:only-of-type {\n",
       "        vertical-align: middle;\n",
       "    }\n",
       "\n",
       "    .dataframe tbody tr th {\n",
       "        vertical-align: top;\n",
       "    }\n",
       "\n",
       "    .dataframe thead th {\n",
       "        text-align: right;\n",
       "    }\n",
       "</style>\n",
       "<table border=\"1\" class=\"dataframe\">\n",
       "  <thead>\n",
       "    <tr style=\"text-align: right;\">\n",
       "      <th></th>\n",
       "      <th>header.location</th>\n",
       "    </tr>\n",
       "  </thead>\n",
       "  <tbody>\n",
       "    <tr>\n",
       "      <th>6</th>\n",
       "      <td>Central</td>\n",
       "    </tr>\n",
       "    <tr>\n",
       "      <th>41</th>\n",
       "      <td>Eastern Province</td>\n",
       "    </tr>\n",
       "    <tr>\n",
       "      <th>54</th>\n",
       "      <td>Kiev</td>\n",
       "    </tr>\n",
       "    <tr>\n",
       "      <th>55</th>\n",
       "      <td>Tamil Nadu</td>\n",
       "    </tr>\n",
       "    <tr>\n",
       "      <th>66</th>\n",
       "      <td>East Flanders</td>\n",
       "    </tr>\n",
       "  </tbody>\n",
       "</table>\n",
       "</div>"
      ],
      "text/plain": [
       "     header.location\n",
       "6            Central\n",
       "41  Eastern Province\n",
       "54              Kiev\n",
       "55        Tamil Nadu\n",
       "66     East Flanders"
      ]
     },
     "execution_count": 66,
     "metadata": {},
     "output_type": "execute_result"
    }
   ],
   "source": [
    "missing_coord = job_data[(job_data['map.lat']== 0) & (job_data['header.locationType']=='S')][['header.location']]\n",
    "missing_coord.head()"
   ]
  },
  {
   "cell_type": "code",
   "execution_count": 85,
   "id": "522308da",
   "metadata": {},
   "outputs": [
    {
     "data": {
      "text/plain": [
       "(165290, 16)"
      ]
     },
     "execution_count": 85,
     "metadata": {},
     "output_type": "execute_result"
    }
   ],
   "source": [
    "job_data1 = job_data[columns_to_keep]\n",
    "job_data1.shape"
   ]
  },
  {
   "cell_type": "code",
   "execution_count": 86,
   "id": "3f69ea33",
   "metadata": {},
   "outputs": [],
   "source": [
    "job_data1 = job_data1.merge(country_info, how='left',left_on='header.location', right_on='NAME')\n",
    "\n",
    "# Apply conditional fill for coords when it's equal to 0\n",
    "job_data1['map.lat'] = job_data1.apply(lambda row: row['LABEL_X'] if row['map.lat'] == 0 else row['map.lat'], axis=1)\n",
    "job_data1['map.lng'] = job_data1.apply(lambda row: row['LABEL_Y'] if row['map.lng'] == 0 else row['map.lng'], axis=1)\n",
    "\n",
    "\n",
    "job_data1 = job_data1.drop(columns=['LABEL_X','LABEL_Y','NAME'])\n"
   ]
  },
  {
   "cell_type": "code",
   "execution_count": 88,
   "id": "1bc19293",
   "metadata": {},
   "outputs": [
    {
     "data": {
      "text/plain": [
       "(140950, 16)"
      ]
     },
     "execution_count": 88,
     "metadata": {},
     "output_type": "execute_result"
    }
   ],
   "source": [
    "job_data1 = job_data1[~job_data1['Translated_Desc'].str.startswith(\"Translation Error:\")]\n",
    "#job_data1['map.lat'].isna().sum()\n",
    "job_data1.shape"
   ]
  },
  {
   "cell_type": "code",
   "execution_count": 90,
   "id": "25ccc8fd",
   "metadata": {},
   "outputs": [
    {
     "data": {
      "text/plain": [
       "5021"
      ]
     },
     "execution_count": 90,
     "metadata": {},
     "output_type": "execute_result"
    }
   ],
   "source": [
    "job_data1['map.lat'].isna().sum()"
   ]
  },
  {
   "cell_type": "code",
   "execution_count": 93,
   "id": "b726f896",
   "metadata": {},
   "outputs": [
    {
     "data": {
      "text/plain": [
       "(135929, 16)"
      ]
     },
     "execution_count": 93,
     "metadata": {},
     "output_type": "execute_result"
    }
   ],
   "source": [
    "job_data1 = job_data1[~job_data1['map.lat'].isna()]\n",
    "job_data1.shape"
   ]
  },
  {
   "cell_type": "code",
   "execution_count": 89,
   "id": "87ce8f9b",
   "metadata": {
    "scrolled": true
   },
   "outputs": [
    {
     "name": "stdout",
     "output_type": "stream",
     "text": [
      "True\n"
     ]
    }
   ],
   "source": [
    "print((job_data1['gaTrackerData.jobTitle'] == job_data1['header.jobTitle']).all())"
   ]
  },
  {
   "cell_type": "markdown",
   "id": "44c72035",
   "metadata": {},
   "source": [
    "with ThreadPoolExecutor(4) as executor:\n",
    "    # Apply the translation function concurrently to each row\n",
    "    results = list(executor.map(translate_to_english, job_data1[[\"header.jobTitle\",\"title_lang\"]].itertuples(index=False)))\n",
    "\n",
    "# Add the results to a new column in the DataFrame\n",
    "job_data1['job_title_in_en'] = results"
   ]
  },
  {
   "cell_type": "code",
   "execution_count": 91,
   "id": "ff95a971",
   "metadata": {},
   "outputs": [
    {
     "data": {
      "text/html": [
       "<div>\n",
       "<style scoped>\n",
       "    .dataframe tbody tr th:only-of-type {\n",
       "        vertical-align: middle;\n",
       "    }\n",
       "\n",
       "    .dataframe tbody tr th {\n",
       "        vertical-align: top;\n",
       "    }\n",
       "\n",
       "    .dataframe thead th {\n",
       "        text-align: right;\n",
       "    }\n",
       "</style>\n",
       "<table border=\"1\" class=\"dataframe\">\n",
       "  <thead>\n",
       "    <tr style=\"text-align: right;\">\n",
       "      <th></th>\n",
       "      <th>gaTrackerData.industry</th>\n",
       "      <th>gaTrackerData.jobId.long</th>\n",
       "      <th>gaTrackerData.jobTitle</th>\n",
       "      <th>gaTrackerData.sector</th>\n",
       "      <th>header.employerName</th>\n",
       "      <th>header.jobTitle</th>\n",
       "      <th>header.location</th>\n",
       "      <th>header.locationType</th>\n",
       "      <th>map.country</th>\n",
       "      <th>map.lat</th>\n",
       "      <th>map.lng</th>\n",
       "      <th>map.location</th>\n",
       "      <th>salary.salaries</th>\n",
       "      <th>Cleaned_Desc</th>\n",
       "      <th>Desc_Language</th>\n",
       "      <th>Translated_Desc</th>\n",
       "    </tr>\n",
       "  </thead>\n",
       "  <tbody>\n",
       "    <tr>\n",
       "      <th>0</th>\n",
       "      <td>Investment Banking &amp; Asset Management</td>\n",
       "      <td>3.227100e+09</td>\n",
       "      <td>Biogas Project Development Manager</td>\n",
       "      <td>Finance</td>\n",
       "      <td>Modus Group</td>\n",
       "      <td>Biogas Project Development Manager</td>\n",
       "      <td>Warsaw</td>\n",
       "      <td>C</td>\n",
       "      <td>Poland</td>\n",
       "      <td>52.2500</td>\n",
       "      <td>21.0000</td>\n",
       "      <td>Warsaw</td>\n",
       "      <td>2483.0</td>\n",
       "      <td>We are the drivers of the future who offer a g...</td>\n",
       "      <td>en</td>\n",
       "      <td>We are the drivers of the future who offer a g...</td>\n",
       "    </tr>\n",
       "    <tr>\n",
       "      <th>1</th>\n",
       "      <td>Biotech &amp; Pharmaceuticals</td>\n",
       "      <td>3.406582e+09</td>\n",
       "      <td>Quality Manager - Boehringer Ingelheim Healthc...</td>\n",
       "      <td>Biotech &amp; Pharmaceuticals</td>\n",
       "      <td>Boehringer Ingelheim</td>\n",
       "      <td>Quality Manager - Boehringer Ingelheim Healthc...</td>\n",
       "      <td>Porto</td>\n",
       "      <td>C</td>\n",
       "      <td>NaN</td>\n",
       "      <td>41.1500</td>\n",
       "      <td>-8.6167</td>\n",
       "      <td>Porto</td>\n",
       "      <td>2484.0</td>\n",
       "      <td>Description:Join Boehringer Ingelheim and be p...</td>\n",
       "      <td>en</td>\n",
       "      <td>Description:Join Boehringer Ingelheim and be p...</td>\n",
       "    </tr>\n",
       "    <tr>\n",
       "      <th>2</th>\n",
       "      <td>NaN</td>\n",
       "      <td>3.230738e+09</td>\n",
       "      <td>Senior Software Engineer (PHP, Elixir, Python)</td>\n",
       "      <td>NaN</td>\n",
       "      <td>Immobiliare.it</td>\n",
       "      <td>Senior Software Engineer (PHP, Elixir, Python)</td>\n",
       "      <td>Milan</td>\n",
       "      <td>C</td>\n",
       "      <td>Italy</td>\n",
       "      <td>45.4667</td>\n",
       "      <td>9.2000</td>\n",
       "      <td>Milan</td>\n",
       "      <td>2485.0</td>\n",
       "      <td>Dottori.it è il motore di ricerca che ti aiuta...</td>\n",
       "      <td>it</td>\n",
       "      <td>Dottori.it is the search engine that helps you...</td>\n",
       "    </tr>\n",
       "    <tr>\n",
       "      <th>3</th>\n",
       "      <td>NaN</td>\n",
       "      <td>3.406677e+09</td>\n",
       "      <td>Senior SQA Engineer</td>\n",
       "      <td>NaN</td>\n",
       "      <td>Codup</td>\n",
       "      <td>Senior SQA Engineer</td>\n",
       "      <td>Karāchi</td>\n",
       "      <td>C</td>\n",
       "      <td>PK</td>\n",
       "      <td>24.8667</td>\n",
       "      <td>67.0500</td>\n",
       "      <td>Karāchi</td>\n",
       "      <td>2486.0</td>\n",
       "      <td>Codup is looking for a Senior SQA Engineer for...</td>\n",
       "      <td>en</td>\n",
       "      <td>Codup is looking for a Senior SQA Engineer for...</td>\n",
       "    </tr>\n",
       "    <tr>\n",
       "      <th>4</th>\n",
       "      <td>Consulting</td>\n",
       "      <td>3.201516e+09</td>\n",
       "      <td>Research Manager</td>\n",
       "      <td>Business Services</td>\n",
       "      <td>MARKELYTICS SOLUTIONS INDIA</td>\n",
       "      <td>Research Manager</td>\n",
       "      <td>Bengaluru</td>\n",
       "      <td>C</td>\n",
       "      <td>IN</td>\n",
       "      <td>12.9670</td>\n",
       "      <td>77.5873</td>\n",
       "      <td>Bengaluru</td>\n",
       "      <td>2487.0</td>\n",
       "      <td>Department: Research &amp; OperationsVacancies: 3E...</td>\n",
       "      <td>en</td>\n",
       "      <td>Department: Research &amp; OperationsVacancies: 3E...</td>\n",
       "    </tr>\n",
       "  </tbody>\n",
       "</table>\n",
       "</div>"
      ],
      "text/plain": [
       "                  gaTrackerData.industry  gaTrackerData.jobId.long  \\\n",
       "0  Investment Banking & Asset Management              3.227100e+09   \n",
       "1              Biotech & Pharmaceuticals              3.406582e+09   \n",
       "2                                    NaN              3.230738e+09   \n",
       "3                                    NaN              3.406677e+09   \n",
       "4                             Consulting              3.201516e+09   \n",
       "\n",
       "                              gaTrackerData.jobTitle  \\\n",
       "0                 Biogas Project Development Manager   \n",
       "1  Quality Manager - Boehringer Ingelheim Healthc...   \n",
       "2     Senior Software Engineer (PHP, Elixir, Python)   \n",
       "3                                Senior SQA Engineer   \n",
       "4                                   Research Manager   \n",
       "\n",
       "        gaTrackerData.sector          header.employerName  \\\n",
       "0                    Finance                  Modus Group   \n",
       "1  Biotech & Pharmaceuticals         Boehringer Ingelheim   \n",
       "2                        NaN               Immobiliare.it   \n",
       "3                        NaN                        Codup   \n",
       "4          Business Services  MARKELYTICS SOLUTIONS INDIA   \n",
       "\n",
       "                                     header.jobTitle header.location  \\\n",
       "0                 Biogas Project Development Manager          Warsaw   \n",
       "1  Quality Manager - Boehringer Ingelheim Healthc...           Porto   \n",
       "2     Senior Software Engineer (PHP, Elixir, Python)           Milan   \n",
       "3                                Senior SQA Engineer         Karāchi   \n",
       "4                                   Research Manager       Bengaluru   \n",
       "\n",
       "  header.locationType map.country  map.lat  map.lng map.location  \\\n",
       "0                   C      Poland  52.2500  21.0000       Warsaw   \n",
       "1                   C         NaN  41.1500  -8.6167        Porto   \n",
       "2                   C       Italy  45.4667   9.2000        Milan   \n",
       "3                   C          PK  24.8667  67.0500      Karāchi   \n",
       "4                   C          IN  12.9670  77.5873    Bengaluru   \n",
       "\n",
       "   salary.salaries                                       Cleaned_Desc  \\\n",
       "0           2483.0  We are the drivers of the future who offer a g...   \n",
       "1           2484.0  Description:Join Boehringer Ingelheim and be p...   \n",
       "2           2485.0  Dottori.it è il motore di ricerca che ti aiuta...   \n",
       "3           2486.0  Codup is looking for a Senior SQA Engineer for...   \n",
       "4           2487.0  Department: Research & OperationsVacancies: 3E...   \n",
       "\n",
       "  Desc_Language                                    Translated_Desc  \n",
       "0            en  We are the drivers of the future who offer a g...  \n",
       "1            en  Description:Join Boehringer Ingelheim and be p...  \n",
       "2            it  Dottori.it is the search engine that helps you...  \n",
       "3            en  Codup is looking for a Senior SQA Engineer for...  \n",
       "4            en  Department: Research & OperationsVacancies: 3E...  "
      ]
     },
     "execution_count": 91,
     "metadata": {},
     "output_type": "execute_result"
    }
   ],
   "source": [
    "job_data1.head()"
   ]
  },
  {
   "cell_type": "code",
   "execution_count": 97,
   "id": "d8c0cdb3",
   "metadata": {},
   "outputs": [
    {
     "name": "stdout",
     "output_type": "stream",
     "text": [
      "Requirement already satisfied: unidecode in /Users/rishi/anaconda3/lib/python3.11/site-packages (1.2.0)\r\n"
     ]
    }
   ],
   "source": [
    "!pip install unidecode"
   ]
  },
  {
   "cell_type": "code",
   "execution_count": null,
   "id": "1a189891",
   "metadata": {},
   "outputs": [],
   "source": [
    "from unidecode import unidecode\n",
    "\n",
    "# Apply unidecode to remove or replace non-UTF-8 characters\n",
    "job_data1['Cleaned_Desc'] = job_data1['Cleaned_Desc'].apply(unidecode)\n",
    "job_data1['Translated_Desc'] = job_data1['Translated_Desc'].apply(unidecode)\n",
    "\n",
    "# Write the DataFrame to a CSV file\n",
    "job_data1.to_csv('job_data_cleaned_desc.csv', index=False)"
   ]
  },
  {
   "cell_type": "code",
   "execution_count": 102,
   "id": "d4e3a4ec",
   "metadata": {},
   "outputs": [
    {
     "name": "stdout",
     "output_type": "stream",
     "text": [
      "54228\n"
     ]
    }
   ],
   "source": [
    "#cleaning job titles\n",
    "unique_titles = list(set(job_data1['gaTrackerData.jobTitle']))\n",
    "print(len(unique_titles)) #54K unique job titles"
   ]
  },
  {
   "cell_type": "code",
   "execution_count": 116,
   "id": "bee202fb",
   "metadata": {},
   "outputs": [
    {
     "name": "stderr",
     "output_type": "stream",
     "text": [
      "/Users/rishi/anaconda3/lib/python3.11/site-packages/fuzzywuzzy/fuzz.py:11: UserWarning: Using slow pure-python SequenceMatcher. Install python-Levenshtein to remove this warning\n",
      "  warnings.warn('Using slow pure-python SequenceMatcher. Install python-Levenshtein to remove this warning')\n"
     ]
    }
   ],
   "source": [
    "from fuzzywuzzy import fuzz"
   ]
  },
  {
   "cell_type": "code",
   "execution_count": 156,
   "id": "71d53b2b",
   "metadata": {},
   "outputs": [],
   "source": [
    "#generated different terminology for roles using chat GPT for different job titles -\n",
    "#the job profiles in the data were related to the below roles primarily\n",
    "title_variations = {\n",
    "    \"data scientist\": [\"data scientist\", \"machine learning scientist\", \"data science\"],\n",
    "    \"software developer\": [\"software engineer\", \"software developer\", \"programmer\", \"full stack developer\", \"full stack\",\n",
    "                          \"back end developer\", \"python developer\", \"developer\", \"mobile developer\",\n",
    "                          \"application developer\", \"java\"],\n",
    "    \"data analyst\": [\"data analyst\", \"data specialist\", \"Analyst\"],\n",
    "    \"research scientist\": [\"research scientist\", \"researcher\", \"scientist\", \"Quantitative Researcher\",\n",
    "                           \"AI researcher\",\"research development\"],\n",
    "    \"business analyst\": [\"business analyst\", \"BA\", \"financial analyst\", \"BI\", \"finance analyst\",\"bi developer\",\n",
    "                         \"data warehouse\", \"power BI\", \"BI consultant\", \"BI analyst\", \"business intelligence\"],\n",
    "    \"product manager\": [\"product manager\", \"product owner\"],\n",
    "    \"project manager\": [\"project manager\", \"project coordinator\", \"team lead\", \"project lead\", \"program coordinator\"],\n",
    "    \"data engineer\": [\"data engineer\", \"ETL developer\", \"data pipeline engineer\"],\n",
    "    \"statistician\": [\"statistician\", \"data statistician\", \"stats analyst\", \"statistical programmer\"],\n",
    "    \"database administrator\": [\"database administrator\", \"DBA\", \"database specialist\", \"database manager\"],\n",
    "    \"database engineer\": [\"database engineer\", \"database developer\", \"DB engineer\", \"SQL Developer\",\"storage engineer\"],\n",
    "    \"machine learning engineer\": [\"machine learning engineer\", \"ML engineer\", \"AI engineer\"],\n",
    "    \"Consultant\": [\"Consultant\", \"business consultant\", \"management consultant\", \"consulting\", \"technology consultant\"],\n",
    "    \"business manager\": [\"business development manager\", \"BD manager\", \"sales manager\", \"business manager\",\n",
    "                        \"sales executive\", \"business executive\",\"solution manager\",\"account manager\"],\n",
    "    \"DevOps\": [\"DevOps Engineer\", \"SRE\", \"Automation Engineer\", \"Release Engineer\", \"DevOps\"],\n",
    "    \"UI/UX Developer or Designer\": [\"UI/UX Developer\", \"UI Developer\", \"UX Designer\", \"front end\",\n",
    "                                   \"php\", \"javascript\", \"web developer\"],\n",
    "    \"Professor\": [\"Professor\", \"Faculty\", \"Associate professor\", \"assistant professor\"]\n",
    "}"
   ]
  },
  {
   "cell_type": "code",
   "execution_count": 165,
   "id": "23442de4",
   "metadata": {},
   "outputs": [
    {
     "data": {
      "text/html": [
       "<div>\n",
       "<style scoped>\n",
       "    .dataframe tbody tr th:only-of-type {\n",
       "        vertical-align: middle;\n",
       "    }\n",
       "\n",
       "    .dataframe tbody tr th {\n",
       "        vertical-align: top;\n",
       "    }\n",
       "\n",
       "    .dataframe thead th {\n",
       "        text-align: right;\n",
       "    }\n",
       "</style>\n",
       "<table border=\"1\" class=\"dataframe\">\n",
       "  <thead>\n",
       "    <tr style=\"text-align: right;\">\n",
       "      <th></th>\n",
       "      <th>Original Title</th>\n",
       "      <th>Title</th>\n",
       "    </tr>\n",
       "  </thead>\n",
       "  <tbody>\n",
       "    <tr>\n",
       "      <th>0</th>\n",
       "      <td>Business Development Executive (Female, Living...</td>\n",
       "      <td>Business Development Executive  Female  Living...</td>\n",
       "    </tr>\n",
       "    <tr>\n",
       "      <th>1</th>\n",
       "      <td>BI Senior Developer</td>\n",
       "      <td>BI Senior Developer</td>\n",
       "    </tr>\n",
       "    <tr>\n",
       "      <th>2</th>\n",
       "      <td>Research &amp; Development, Industrial Design - P&amp;...</td>\n",
       "      <td>Research   Development  Industrial Design   P ...</td>\n",
       "    </tr>\n",
       "    <tr>\n",
       "      <th>3</th>\n",
       "      <td>Key Account Manager - Rare Disease &amp; Oncology</td>\n",
       "      <td>Key Account Manager   Rare Disease   Oncology</td>\n",
       "    </tr>\n",
       "    <tr>\n",
       "      <th>4</th>\n",
       "      <td>Graduate Software Consultant</td>\n",
       "      <td>Graduate Software Consultant</td>\n",
       "    </tr>\n",
       "    <tr>\n",
       "      <th>5</th>\n",
       "      <td>Client Solutions Manager</td>\n",
       "      <td>Client Solutions Manager</td>\n",
       "    </tr>\n",
       "    <tr>\n",
       "      <th>6</th>\n",
       "      <td>Senior Consultant (f/m/x)</td>\n",
       "      <td>Senior Consultant  f m x</td>\n",
       "    </tr>\n",
       "    <tr>\n",
       "      <th>7</th>\n",
       "      <td>Senior Business Set Up Manager</td>\n",
       "      <td>Senior Business Set Up Manager</td>\n",
       "    </tr>\n",
       "    <tr>\n",
       "      <th>8</th>\n",
       "      <td>Support Engineer Power BI</td>\n",
       "      <td>Support Engineer Power BI</td>\n",
       "    </tr>\n",
       "    <tr>\n",
       "      <th>9</th>\n",
       "      <td>Project Manager (Station in Dongguan)</td>\n",
       "      <td>Project Manager  Station in Dongguan</td>\n",
       "    </tr>\n",
       "  </tbody>\n",
       "</table>\n",
       "</div>"
      ],
      "text/plain": [
       "                                      Original Title  \\\n",
       "0  Business Development Executive (Female, Living...   \n",
       "1                                BI Senior Developer   \n",
       "2  Research & Development, Industrial Design - P&...   \n",
       "3      Key Account Manager - Rare Disease & Oncology   \n",
       "4                       Graduate Software Consultant   \n",
       "5                           Client Solutions Manager   \n",
       "6                          Senior Consultant (f/m/x)   \n",
       "7                     Senior Business Set Up Manager   \n",
       "8                          Support Engineer Power BI   \n",
       "9              Project Manager (Station in Dongguan)   \n",
       "\n",
       "                                               Title  \n",
       "0  Business Development Executive  Female  Living...  \n",
       "1                                BI Senior Developer  \n",
       "2  Research   Development  Industrial Design   P ...  \n",
       "3      Key Account Manager   Rare Disease   Oncology  \n",
       "4                       Graduate Software Consultant  \n",
       "5                           Client Solutions Manager  \n",
       "6                          Senior Consultant  f m x   \n",
       "7                     Senior Business Set Up Manager  \n",
       "8                          Support Engineer Power BI  \n",
       "9              Project Manager  Station in Dongguan   "
      ]
     },
     "execution_count": 165,
     "metadata": {},
     "output_type": "execute_result"
    }
   ],
   "source": [
    "import re\n",
    "unqie_title_map = []\n",
    "unique_titles_clean=[]\n",
    "#remove special characters from title\n",
    "for t in unique_titles:\n",
    "    \n",
    "    x = re.sub(r'[^a-zA-Z0-9\\s]', ' ', t)\n",
    "    #print(s)\n",
    "    unique_titles_clean.append(x)\n",
    "    unqie_title_map.append({\n",
    "        \"Original Title\": t,\n",
    "        \"Title\": x\n",
    "    })\n",
    "\n",
    "job_title_map1 = pd.DataFrame(unqie_title_map)\n",
    "job_title_map1.head(10)    "
   ]
  },
  {
   "cell_type": "code",
   "execution_count": 170,
   "id": "f6bd3c07",
   "metadata": {},
   "outputs": [
    {
     "name": "stdout",
     "output_type": "stream",
     "text": [
      "0\n"
     ]
    },
    {
     "data": {
      "text/html": [
       "<div>\n",
       "<style scoped>\n",
       "    .dataframe tbody tr th:only-of-type {\n",
       "        vertical-align: middle;\n",
       "    }\n",
       "\n",
       "    .dataframe tbody tr th {\n",
       "        vertical-align: top;\n",
       "    }\n",
       "\n",
       "    .dataframe thead th {\n",
       "        text-align: right;\n",
       "    }\n",
       "</style>\n",
       "<table border=\"1\" class=\"dataframe\">\n",
       "  <thead>\n",
       "    <tr style=\"text-align: right;\">\n",
       "      <th></th>\n",
       "      <th>Title</th>\n",
       "      <th>Cleaned Title</th>\n",
       "      <th>matched variation</th>\n",
       "      <th>similarity_score</th>\n",
       "    </tr>\n",
       "  </thead>\n",
       "  <tbody>\n",
       "    <tr>\n",
       "      <th>0</th>\n",
       "      <td>Business Development Executive  Female  Living...</td>\n",
       "      <td>business manager</td>\n",
       "      <td>business development manager</td>\n",
       "      <td>83</td>\n",
       "    </tr>\n",
       "    <tr>\n",
       "      <th>1</th>\n",
       "      <td>BI Senior Developer</td>\n",
       "      <td>business analyst</td>\n",
       "      <td>bi developer</td>\n",
       "      <td>100</td>\n",
       "    </tr>\n",
       "    <tr>\n",
       "      <th>2</th>\n",
       "      <td>Research   Development  Industrial Design   P ...</td>\n",
       "      <td>research scientist</td>\n",
       "      <td>research development</td>\n",
       "      <td>100</td>\n",
       "    </tr>\n",
       "    <tr>\n",
       "      <th>3</th>\n",
       "      <td>Key Account Manager   Rare Disease   Oncology</td>\n",
       "      <td>business manager</td>\n",
       "      <td>account manager</td>\n",
       "      <td>100</td>\n",
       "    </tr>\n",
       "    <tr>\n",
       "      <th>4</th>\n",
       "      <td>Graduate Software Consultant</td>\n",
       "      <td>Consultant</td>\n",
       "      <td>Consultant</td>\n",
       "      <td>100</td>\n",
       "    </tr>\n",
       "    <tr>\n",
       "      <th>5</th>\n",
       "      <td>Client Solutions Manager</td>\n",
       "      <td>business manager</td>\n",
       "      <td>solution manager</td>\n",
       "      <td>80</td>\n",
       "    </tr>\n",
       "    <tr>\n",
       "      <th>6</th>\n",
       "      <td>Senior Consultant  f m x</td>\n",
       "      <td>Consultant</td>\n",
       "      <td>Consultant</td>\n",
       "      <td>100</td>\n",
       "    </tr>\n",
       "    <tr>\n",
       "      <th>7</th>\n",
       "      <td>Senior Business Set Up Manager</td>\n",
       "      <td>business manager</td>\n",
       "      <td>business manager</td>\n",
       "      <td>100</td>\n",
       "    </tr>\n",
       "    <tr>\n",
       "      <th>8</th>\n",
       "      <td>Support Engineer Power BI</td>\n",
       "      <td>business analyst</td>\n",
       "      <td>power BI</td>\n",
       "      <td>100</td>\n",
       "    </tr>\n",
       "    <tr>\n",
       "      <th>9</th>\n",
       "      <td>Project Manager  Station in Dongguan</td>\n",
       "      <td>project manager</td>\n",
       "      <td>project manager</td>\n",
       "      <td>100</td>\n",
       "    </tr>\n",
       "  </tbody>\n",
       "</table>\n",
       "</div>"
      ],
      "text/plain": [
       "                                               Title       Cleaned Title  \\\n",
       "0  Business Development Executive  Female  Living...    business manager   \n",
       "1                                BI Senior Developer    business analyst   \n",
       "2  Research   Development  Industrial Design   P ...  research scientist   \n",
       "3      Key Account Manager   Rare Disease   Oncology    business manager   \n",
       "4                       Graduate Software Consultant          Consultant   \n",
       "5                           Client Solutions Manager    business manager   \n",
       "6                          Senior Consultant  f m x           Consultant   \n",
       "7                     Senior Business Set Up Manager    business manager   \n",
       "8                          Support Engineer Power BI    business analyst   \n",
       "9              Project Manager  Station in Dongguan      project manager   \n",
       "\n",
       "              matched variation  similarity_score  \n",
       "0  business development manager                83  \n",
       "1                  bi developer               100  \n",
       "2          research development               100  \n",
       "3               account manager               100  \n",
       "4                    Consultant               100  \n",
       "5              solution manager                80  \n",
       "6                    Consultant               100  \n",
       "7              business manager               100  \n",
       "8                      power BI               100  \n",
       "9               project manager               100  "
      ]
     },
     "execution_count": 170,
     "metadata": {},
     "output_type": "execute_result"
    }
   ],
   "source": [
    "import math\n",
    "standardized_titles_list = []\n",
    "i=0\n",
    "for title in unique_titles_clean:\n",
    "    clean_title = ''\n",
    "    max_score = 0\n",
    "    max_title = ''\n",
    "    max_len = 0\n",
    "    for k in title_variations:\n",
    "        for p in title_variations[k]:\n",
    "            similarity_score = fuzz.token_set_ratio(title.lower(), p.lower())\n",
    "            if (similarity_score>=65):\n",
    "                #giving weightage to matches that are longer\n",
    "                if (max_score*math.sqrt(max_len)) < (similarity_score*math.sqrt(len(p))) :\n",
    "                    \n",
    "                    clean_title = k\n",
    "                    max_title = p\n",
    "                    max_len = len(p)\n",
    "                    max_score = similarity_score\n",
    "    \n",
    "    standardized_titles_list.append({\n",
    "        \"Title\": title,\n",
    "        \"Cleaned Title\": clean_title,\n",
    "        \"matched variation\": max_title,\n",
    "        \"similarity_score\":max_score\n",
    "    })\n",
    "    \n",
    "\n",
    "job_title_df = pd.DataFrame(standardized_titles_list)\n",
    "job_title_df.head(10)    "
   ]
  },
  {
   "cell_type": "code",
   "execution_count": 171,
   "id": "30ccd9ba",
   "metadata": {},
   "outputs": [
    {
     "data": {
      "text/plain": [
       "count    54228.000000\n",
       "mean        90.028583\n",
       "std         17.301130\n",
       "min          0.000000\n",
       "25%         82.000000\n",
       "50%        100.000000\n",
       "75%        100.000000\n",
       "max        100.000000\n",
       "Name: similarity_score, dtype: float64"
      ]
     },
     "execution_count": 171,
     "metadata": {},
     "output_type": "execute_result"
    }
   ],
   "source": [
    "job_title_df[\"similarity_score\"].describe()"
   ]
  },
  {
   "cell_type": "code",
   "execution_count": 174,
   "id": "0c7d90c9",
   "metadata": {},
   "outputs": [
    {
     "data": {
      "text/plain": [
       "1182"
      ]
     },
     "execution_count": 174,
     "metadata": {},
     "output_type": "execute_result"
    }
   ],
   "source": [
    "(job_title_df[\"similarity_score\"]==0).sum()"
   ]
  },
  {
   "cell_type": "code",
   "execution_count": 175,
   "id": "bc100697",
   "metadata": {},
   "outputs": [],
   "source": [
    "job_title_df.to_excel(\"job_title_df.xlsx\",index=False)"
   ]
  },
  {
   "cell_type": "code",
   "execution_count": 176,
   "id": "66615ab4",
   "metadata": {},
   "outputs": [
    {
     "data": {
      "text/html": [
       "<div>\n",
       "<style scoped>\n",
       "    .dataframe tbody tr th:only-of-type {\n",
       "        vertical-align: middle;\n",
       "    }\n",
       "\n",
       "    .dataframe tbody tr th {\n",
       "        vertical-align: top;\n",
       "    }\n",
       "\n",
       "    .dataframe thead th {\n",
       "        text-align: right;\n",
       "    }\n",
       "</style>\n",
       "<table border=\"1\" class=\"dataframe\">\n",
       "  <thead>\n",
       "    <tr style=\"text-align: right;\">\n",
       "      <th></th>\n",
       "      <th>Original Title</th>\n",
       "      <th>Title</th>\n",
       "      <th>Cleaned Title</th>\n",
       "      <th>matched variation</th>\n",
       "      <th>similarity_score</th>\n",
       "    </tr>\n",
       "  </thead>\n",
       "  <tbody>\n",
       "    <tr>\n",
       "      <th>0</th>\n",
       "      <td>Business Development Executive (Female, Living...</td>\n",
       "      <td>Business Development Executive  Female  Living...</td>\n",
       "      <td>business manager</td>\n",
       "      <td>business development manager</td>\n",
       "      <td>83</td>\n",
       "    </tr>\n",
       "    <tr>\n",
       "      <th>1</th>\n",
       "      <td>BI Senior Developer</td>\n",
       "      <td>BI Senior Developer</td>\n",
       "      <td>business analyst</td>\n",
       "      <td>bi developer</td>\n",
       "      <td>100</td>\n",
       "    </tr>\n",
       "    <tr>\n",
       "      <th>2</th>\n",
       "      <td>Research &amp; Development, Industrial Design - P&amp;...</td>\n",
       "      <td>Research   Development  Industrial Design   P ...</td>\n",
       "      <td>research scientist</td>\n",
       "      <td>research development</td>\n",
       "      <td>100</td>\n",
       "    </tr>\n",
       "    <tr>\n",
       "      <th>3</th>\n",
       "      <td>Key Account Manager - Rare Disease &amp; Oncology</td>\n",
       "      <td>Key Account Manager   Rare Disease   Oncology</td>\n",
       "      <td>business manager</td>\n",
       "      <td>account manager</td>\n",
       "      <td>100</td>\n",
       "    </tr>\n",
       "    <tr>\n",
       "      <th>4</th>\n",
       "      <td>Graduate Software Consultant</td>\n",
       "      <td>Graduate Software Consultant</td>\n",
       "      <td>Consultant</td>\n",
       "      <td>Consultant</td>\n",
       "      <td>100</td>\n",
       "    </tr>\n",
       "  </tbody>\n",
       "</table>\n",
       "</div>"
      ],
      "text/plain": [
       "                                      Original Title  \\\n",
       "0  Business Development Executive (Female, Living...   \n",
       "1                                BI Senior Developer   \n",
       "2  Research & Development, Industrial Design - P&...   \n",
       "3      Key Account Manager - Rare Disease & Oncology   \n",
       "4                       Graduate Software Consultant   \n",
       "\n",
       "                                               Title       Cleaned Title  \\\n",
       "0  Business Development Executive  Female  Living...    business manager   \n",
       "1                                BI Senior Developer    business analyst   \n",
       "2  Research   Development  Industrial Design   P ...  research scientist   \n",
       "3      Key Account Manager   Rare Disease   Oncology    business manager   \n",
       "4                       Graduate Software Consultant          Consultant   \n",
       "\n",
       "              matched variation  similarity_score  \n",
       "0  business development manager                83  \n",
       "1                  bi developer               100  \n",
       "2          research development               100  \n",
       "3               account manager               100  \n",
       "4                    Consultant               100  "
      ]
     },
     "execution_count": 176,
     "metadata": {},
     "output_type": "execute_result"
    }
   ],
   "source": [
    "job_title_map2 = job_title_map1.merge(job_title_df,how='inner',on=\"Title\")\n",
    "job_title_map2.head()"
   ]
  },
  {
   "cell_type": "code",
   "execution_count": 178,
   "id": "b1268ec0",
   "metadata": {},
   "outputs": [
    {
     "data": {
      "text/html": [
       "<div>\n",
       "<style scoped>\n",
       "    .dataframe tbody tr th:only-of-type {\n",
       "        vertical-align: middle;\n",
       "    }\n",
       "\n",
       "    .dataframe tbody tr th {\n",
       "        vertical-align: top;\n",
       "    }\n",
       "\n",
       "    .dataframe thead th {\n",
       "        text-align: right;\n",
       "    }\n",
       "</style>\n",
       "<table border=\"1\" class=\"dataframe\">\n",
       "  <thead>\n",
       "    <tr style=\"text-align: right;\">\n",
       "      <th></th>\n",
       "      <th>gaTrackerData.industry</th>\n",
       "      <th>gaTrackerData.jobId.long</th>\n",
       "      <th>gaTrackerData.jobTitle</th>\n",
       "      <th>gaTrackerData.sector</th>\n",
       "      <th>header.employerName</th>\n",
       "      <th>header.jobTitle</th>\n",
       "      <th>header.location</th>\n",
       "      <th>header.locationType</th>\n",
       "      <th>map.country</th>\n",
       "      <th>map.lat</th>\n",
       "      <th>map.lng</th>\n",
       "      <th>map.location</th>\n",
       "      <th>salary.salaries</th>\n",
       "      <th>Cleaned_Desc</th>\n",
       "      <th>Desc_Language</th>\n",
       "      <th>Translated_Desc</th>\n",
       "      <th>Cleaned Title</th>\n",
       "      <th>matched variation</th>\n",
       "      <th>similarity_score</th>\n",
       "    </tr>\n",
       "  </thead>\n",
       "  <tbody>\n",
       "    <tr>\n",
       "      <th>0</th>\n",
       "      <td>Investment Banking &amp; Asset Management</td>\n",
       "      <td>3.227100e+09</td>\n",
       "      <td>Biogas Project Development Manager</td>\n",
       "      <td>Finance</td>\n",
       "      <td>Modus Group</td>\n",
       "      <td>Biogas Project Development Manager</td>\n",
       "      <td>Warsaw</td>\n",
       "      <td>C</td>\n",
       "      <td>Poland</td>\n",
       "      <td>52.2500</td>\n",
       "      <td>21.0000</td>\n",
       "      <td>Warsaw</td>\n",
       "      <td>2483.0</td>\n",
       "      <td>We are the drivers of the future who offer a g...</td>\n",
       "      <td>en</td>\n",
       "      <td>We are the drivers of the future who offer a g...</td>\n",
       "      <td>business manager</td>\n",
       "      <td>business development manager</td>\n",
       "      <td>81</td>\n",
       "    </tr>\n",
       "    <tr>\n",
       "      <th>1</th>\n",
       "      <td>Biotech &amp; Pharmaceuticals</td>\n",
       "      <td>3.406582e+09</td>\n",
       "      <td>Quality Manager - Boehringer Ingelheim Healthc...</td>\n",
       "      <td>Biotech &amp; Pharmaceuticals</td>\n",
       "      <td>Boehringer Ingelheim</td>\n",
       "      <td>Quality Manager - Boehringer Ingelheim Healthc...</td>\n",
       "      <td>Porto</td>\n",
       "      <td>C</td>\n",
       "      <td>NaN</td>\n",
       "      <td>41.1500</td>\n",
       "      <td>-8.6167</td>\n",
       "      <td>Porto</td>\n",
       "      <td>2484.0</td>\n",
       "      <td>Description:Join Boehringer Ingelheim and be p...</td>\n",
       "      <td>en</td>\n",
       "      <td>Description:Join Boehringer Ingelheim and be p...</td>\n",
       "      <td>business manager</td>\n",
       "      <td>BD manager</td>\n",
       "      <td>82</td>\n",
       "    </tr>\n",
       "    <tr>\n",
       "      <th>2</th>\n",
       "      <td>NaN</td>\n",
       "      <td>3.230738e+09</td>\n",
       "      <td>Senior Software Engineer (PHP, Elixir, Python)</td>\n",
       "      <td>NaN</td>\n",
       "      <td>Immobiliare.it</td>\n",
       "      <td>Senior Software Engineer (PHP, Elixir, Python)</td>\n",
       "      <td>Milan</td>\n",
       "      <td>C</td>\n",
       "      <td>Italy</td>\n",
       "      <td>45.4667</td>\n",
       "      <td>9.2000</td>\n",
       "      <td>Milan</td>\n",
       "      <td>2485.0</td>\n",
       "      <td>Dottori.it e il motore di ricerca che ti aiuta...</td>\n",
       "      <td>it</td>\n",
       "      <td>Dottori.it is the search engine that helps you...</td>\n",
       "      <td>software developer</td>\n",
       "      <td>software engineer</td>\n",
       "      <td>100</td>\n",
       "    </tr>\n",
       "    <tr>\n",
       "      <th>3</th>\n",
       "      <td>NaN</td>\n",
       "      <td>3.406677e+09</td>\n",
       "      <td>Senior SQA Engineer</td>\n",
       "      <td>NaN</td>\n",
       "      <td>Codup</td>\n",
       "      <td>Senior SQA Engineer</td>\n",
       "      <td>Karāchi</td>\n",
       "      <td>C</td>\n",
       "      <td>PK</td>\n",
       "      <td>24.8667</td>\n",
       "      <td>67.0500</td>\n",
       "      <td>Karāchi</td>\n",
       "      <td>2486.0</td>\n",
       "      <td>Codup is looking for a Senior SQA Engineer for...</td>\n",
       "      <td>en</td>\n",
       "      <td>Codup is looking for a Senior SQA Engineer for...</td>\n",
       "      <td>database engineer</td>\n",
       "      <td>DB engineer</td>\n",
       "      <td>84</td>\n",
       "    </tr>\n",
       "    <tr>\n",
       "      <th>4</th>\n",
       "      <td>Consulting</td>\n",
       "      <td>3.201516e+09</td>\n",
       "      <td>Research Manager</td>\n",
       "      <td>Business Services</td>\n",
       "      <td>MARKELYTICS SOLUTIONS INDIA</td>\n",
       "      <td>Research Manager</td>\n",
       "      <td>Bengaluru</td>\n",
       "      <td>C</td>\n",
       "      <td>IN</td>\n",
       "      <td>12.9670</td>\n",
       "      <td>77.5873</td>\n",
       "      <td>Bengaluru</td>\n",
       "      <td>2487.0</td>\n",
       "      <td>Department: Research &amp; OperationsVacancies: 3E...</td>\n",
       "      <td>en</td>\n",
       "      <td>Department: Research &amp; OperationsVacancies: 3E...</td>\n",
       "      <td>research scientist</td>\n",
       "      <td>Quantitative Researcher</td>\n",
       "      <td>67</td>\n",
       "    </tr>\n",
       "  </tbody>\n",
       "</table>\n",
       "</div>"
      ],
      "text/plain": [
       "                  gaTrackerData.industry  gaTrackerData.jobId.long  \\\n",
       "0  Investment Banking & Asset Management              3.227100e+09   \n",
       "1              Biotech & Pharmaceuticals              3.406582e+09   \n",
       "2                                    NaN              3.230738e+09   \n",
       "3                                    NaN              3.406677e+09   \n",
       "4                             Consulting              3.201516e+09   \n",
       "\n",
       "                              gaTrackerData.jobTitle  \\\n",
       "0                 Biogas Project Development Manager   \n",
       "1  Quality Manager - Boehringer Ingelheim Healthc...   \n",
       "2     Senior Software Engineer (PHP, Elixir, Python)   \n",
       "3                                Senior SQA Engineer   \n",
       "4                                   Research Manager   \n",
       "\n",
       "        gaTrackerData.sector          header.employerName  \\\n",
       "0                    Finance                  Modus Group   \n",
       "1  Biotech & Pharmaceuticals         Boehringer Ingelheim   \n",
       "2                        NaN               Immobiliare.it   \n",
       "3                        NaN                        Codup   \n",
       "4          Business Services  MARKELYTICS SOLUTIONS INDIA   \n",
       "\n",
       "                                     header.jobTitle header.location  \\\n",
       "0                 Biogas Project Development Manager          Warsaw   \n",
       "1  Quality Manager - Boehringer Ingelheim Healthc...           Porto   \n",
       "2     Senior Software Engineer (PHP, Elixir, Python)           Milan   \n",
       "3                                Senior SQA Engineer         Karāchi   \n",
       "4                                   Research Manager       Bengaluru   \n",
       "\n",
       "  header.locationType map.country  map.lat  map.lng map.location  \\\n",
       "0                   C      Poland  52.2500  21.0000       Warsaw   \n",
       "1                   C         NaN  41.1500  -8.6167        Porto   \n",
       "2                   C       Italy  45.4667   9.2000        Milan   \n",
       "3                   C          PK  24.8667  67.0500      Karāchi   \n",
       "4                   C          IN  12.9670  77.5873    Bengaluru   \n",
       "\n",
       "   salary.salaries                                       Cleaned_Desc  \\\n",
       "0           2483.0  We are the drivers of the future who offer a g...   \n",
       "1           2484.0  Description:Join Boehringer Ingelheim and be p...   \n",
       "2           2485.0  Dottori.it e il motore di ricerca che ti aiuta...   \n",
       "3           2486.0  Codup is looking for a Senior SQA Engineer for...   \n",
       "4           2487.0  Department: Research & OperationsVacancies: 3E...   \n",
       "\n",
       "  Desc_Language                                    Translated_Desc  \\\n",
       "0            en  We are the drivers of the future who offer a g...   \n",
       "1            en  Description:Join Boehringer Ingelheim and be p...   \n",
       "2            it  Dottori.it is the search engine that helps you...   \n",
       "3            en  Codup is looking for a Senior SQA Engineer for...   \n",
       "4            en  Department: Research & OperationsVacancies: 3E...   \n",
       "\n",
       "        Cleaned Title             matched variation  similarity_score  \n",
       "0    business manager  business development manager                81  \n",
       "1    business manager                    BD manager                82  \n",
       "2  software developer             software engineer               100  \n",
       "3   database engineer                   DB engineer                84  \n",
       "4  research scientist       Quantitative Researcher                67  "
      ]
     },
     "execution_count": 178,
     "metadata": {},
     "output_type": "execute_result"
    }
   ],
   "source": [
    "job_data2 = job_data1.merge(job_title_map2,how='left',left_on='gaTrackerData.jobTitle',right_on='Original Title')\n",
    "job_data2.drop(columns=['Original Title','Title'],inplace=True)\n",
    "job_data2.head()"
   ]
  },
  {
   "cell_type": "code",
   "execution_count": 180,
   "id": "4209e261",
   "metadata": {},
   "outputs": [
    {
     "data": {
      "text/plain": [
       "Cleaned Title\n",
       "software developer             22258\n",
       "business manager               21060\n",
       "project manager                15148\n",
       "database engineer              13030\n",
       "business analyst               12976\n",
       "data analyst                   11339\n",
       "product manager                 9365\n",
       "data scientist                  5998\n",
       "data engineer                   5410\n",
       "DevOps                          5001\n",
       "machine learning engineer       4834\n",
       "Consultant                      4035\n",
       "research scientist              3840\n",
       "                                2110\n",
       "database administrator          1413\n",
       "Professor                        836\n",
       "statistician                     705\n",
       "UI/UX Developer or Designer      450\n",
       "Name: count, dtype: int64"
      ]
     },
     "execution_count": 180,
     "metadata": {},
     "output_type": "execute_result"
    }
   ],
   "source": [
    "job_data2['Cleaned Title'].value_counts()"
   ]
  },
  {
   "cell_type": "code",
   "execution_count": 181,
   "id": "027e6c55",
   "metadata": {},
   "outputs": [],
   "source": [
    "job_data2.to_csv('job_data_cleaned_tile.csv', index=False)"
   ]
  },
  {
   "cell_type": "code",
   "execution_count": null,
   "id": "702d2a3b",
   "metadata": {},
   "outputs": [],
   "source": []
  }
 ],
 "metadata": {
  "kernelspec": {
   "display_name": "Python 3 (ipykernel)",
   "language": "python",
   "name": "python3"
  },
  "language_info": {
   "codemirror_mode": {
    "name": "ipython",
    "version": 3
   },
   "file_extension": ".py",
   "mimetype": "text/x-python",
   "name": "python",
   "nbconvert_exporter": "python",
   "pygments_lexer": "ipython3",
   "version": "3.11.4"
  }
 },
 "nbformat": 4,
 "nbformat_minor": 5
}
